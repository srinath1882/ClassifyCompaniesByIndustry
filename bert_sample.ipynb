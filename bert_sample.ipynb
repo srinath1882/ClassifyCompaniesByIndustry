{
 "cells": [
  {
   "cell_type": "code",
   "execution_count": null,
   "metadata": {
    "colab": {
     "base_uri": "https://localhost:8080/",
     "height": 51
    },
    "colab_type": "code",
    "id": "KkS5WvbU7bcY",
    "outputId": "329f6282-5330-4b5b-e5fb-cd10ea7eaf09"
   },
   "outputs": [
    {
     "name": "stderr",
     "output_type": "stream",
     "text": [
      "/usr/local/lib/python3.6/dist-packages/statsmodels/tools/_testing.py:19: FutureWarning: pandas.util.testing is deprecated. Use the functions in the public API at pandas.testing instead.\n",
      "  import pandas.util.testing as tm\n"
     ]
    }
   ],
   "source": [
    "import tensorflow as tf\n",
    "from transformers import BertTokenizer\n",
    "from transformers import TFBertForSequenceClassification,BertConfig\n",
    "import pandas as pd\n",
    "import matplotlib.pyplot as plt\n",
    "import seaborn as sns\n",
    "import numpy as np\n",
    "from sklearn.model_selection import train_test_split\n",
    "from sklearn.preprocessing import LabelEncoder\n",
    "from sklearn.metrics import accuracy_score\n",
    "from sklearn.metrics import precision_score\n",
    "from sklearn.metrics import recall_score\n",
    "from sklearn.metrics import f1_score\n",
    "from sklearn.metrics import roc_auc_score"
   ]
  },
  {
   "cell_type": "code",
   "execution_count": null,
   "metadata": {
    "colab": {},
    "colab_type": "code",
    "id": "pKDhN6RB8NAr"
   },
   "outputs": [],
   "source": [
    "train_df =  pd.read_excel('Training_Data_Set_for_Data_Science_Case_Study.xlsx')"
   ]
  },
  {
   "cell_type": "code",
   "execution_count": null,
   "metadata": {
    "colab": {
     "base_uri": "https://localhost:8080/",
     "height": 204
    },
    "colab_type": "code",
    "id": "Otyn5PzB8_k2",
    "outputId": "bcc9606b-ac75-4bc6-83d6-be34c7dd9b90"
   },
   "outputs": [
    {
     "data": {
      "text/html": [
       "<div>\n",
       "<style scoped>\n",
       "    .dataframe tbody tr th:only-of-type {\n",
       "        vertical-align: middle;\n",
       "    }\n",
       "\n",
       "    .dataframe tbody tr th {\n",
       "        vertical-align: top;\n",
       "    }\n",
       "\n",
       "    .dataframe thead th {\n",
       "        text-align: right;\n",
       "    }\n",
       "</style>\n",
       "<table border=\"1\" class=\"dataframe\">\n",
       "  <thead>\n",
       "    <tr style=\"text-align: right;\">\n",
       "      <th></th>\n",
       "      <th>Company Name</th>\n",
       "      <th>Business Description</th>\n",
       "      <th>Industry Classification Tag</th>\n",
       "    </tr>\n",
       "  </thead>\n",
       "  <tbody>\n",
       "    <tr>\n",
       "      <th>0</th>\n",
       "      <td>ADSOUTH PARTNERS, INC.</td>\n",
       "      <td>Adsouth Partners, Inc. provides advertising ag...</td>\n",
       "      <td>Advertising</td>\n",
       "    </tr>\n",
       "    <tr>\n",
       "      <th>1</th>\n",
       "      <td>Artec Global Media, Inc.</td>\n",
       "      <td>Artec Global Media, Inc., formerly Artec Consu...</td>\n",
       "      <td>Advertising</td>\n",
       "    </tr>\n",
       "    <tr>\n",
       "      <th>2</th>\n",
       "      <td>Betawave Corp.</td>\n",
       "      <td>Betawave Corporation provides online marketing...</td>\n",
       "      <td>Advertising</td>\n",
       "    </tr>\n",
       "    <tr>\n",
       "      <th>3</th>\n",
       "      <td>BOSTON OMAHA Corp</td>\n",
       "      <td>Boston Omaha Corporation is engaged in the bus...</td>\n",
       "      <td>Advertising</td>\n",
       "    </tr>\n",
       "    <tr>\n",
       "      <th>4</th>\n",
       "      <td>Bright Mountain Media Inc</td>\n",
       "      <td>Bright Mountain Media, Inc. is a digital media...</td>\n",
       "      <td>Advertising</td>\n",
       "    </tr>\n",
       "  </tbody>\n",
       "</table>\n",
       "</div>"
      ],
      "text/plain": [
       "                Company Name  ... Industry Classification Tag\n",
       "0     ADSOUTH PARTNERS, INC.  ...                 Advertising\n",
       "1   Artec Global Media, Inc.  ...                 Advertising\n",
       "2             Betawave Corp.  ...                 Advertising\n",
       "3          BOSTON OMAHA Corp  ...                 Advertising\n",
       "4  Bright Mountain Media Inc  ...                 Advertising\n",
       "\n",
       "[5 rows x 3 columns]"
      ]
     },
     "execution_count": 5,
     "metadata": {
      "tags": []
     },
     "output_type": "execute_result"
    }
   ],
   "source": [
    "train_df.head()"
   ]
  },
  {
   "cell_type": "code",
   "execution_count": null,
   "metadata": {
    "colab": {},
    "colab_type": "code",
    "id": "hYkn7f1K9Bem"
   },
   "outputs": [],
   "source": [
    "#train_df.groupby('Industry Classification Tag')['Company Name'].count().plot(kind='bar',figsize=(15,15))"
   ]
  },
  {
   "cell_type": "code",
   "execution_count": null,
   "metadata": {
    "colab": {
     "base_uri": "https://localhost:8080/",
     "height": 85
    },
    "colab_type": "code",
    "id": "j4u0syF59faT",
    "outputId": "b26d7927-a219-46d7-985b-e3840f3c2065"
   },
   "outputs": [
    {
     "data": {
      "text/plain": [
       "Company Name                    0\n",
       "Business Description           23\n",
       "Industry Classification Tag     0\n",
       "dtype: int64"
      ]
     },
     "execution_count": 7,
     "metadata": {
      "tags": []
     },
     "output_type": "execute_result"
    }
   ],
   "source": [
    "train_df.isnull().sum()"
   ]
  },
  {
   "cell_type": "code",
   "execution_count": null,
   "metadata": {
    "colab": {},
    "colab_type": "code",
    "id": "von-Yuh59Kw1"
   },
   "outputs": [],
   "source": [
    "train_df = train_df[~train_df['Business Description'].isnull()]"
   ]
  },
  {
   "cell_type": "code",
   "execution_count": null,
   "metadata": {
    "colab": {
     "base_uri": "https://localhost:8080/",
     "height": 85
    },
    "colab_type": "code",
    "id": "ug3xe_3N9sQa",
    "outputId": "53823e58-8c1c-4c37-b17a-59e71cce1962"
   },
   "outputs": [
    {
     "data": {
      "text/plain": [
       "Company Name                   0\n",
       "Business Description           0\n",
       "Industry Classification Tag    0\n",
       "dtype: int64"
      ]
     },
     "execution_count": 9,
     "metadata": {
      "tags": []
     },
     "output_type": "execute_result"
    }
   ],
   "source": [
    "train_df.isnull().sum()"
   ]
  },
  {
   "cell_type": "code",
   "execution_count": null,
   "metadata": {
    "colab": {
     "base_uri": "https://localhost:8080/",
     "height": 221
    },
    "colab_type": "code",
    "id": "NxBVbhmx9xd1",
    "outputId": "ed4b14e6-919f-4fa0-c832-f53c1ca4e308"
   },
   "outputs": [
    {
     "data": {
      "text/plain": [
       "Regional Banks                        569\n",
       "Biotechnology                         402\n",
       "Gold                                  357\n",
       "Oil & Gas Exploration & Production    224\n",
       "Application Software                  205\n",
       "                                     ... \n",
       "Technology Distributors                51\n",
       "Investment Banking & Brokerage         51\n",
       "Property & Casualty Insurance          50\n",
       "Internet Services & Infrastructure     50\n",
       "Real Estate Operating Companies        50\n",
       "Name: Industry Classification Tag, Length: 62, dtype: int64"
      ]
     },
     "execution_count": 10,
     "metadata": {
      "tags": []
     },
     "output_type": "execute_result"
    }
   ],
   "source": [
    "train_df['Industry Classification Tag'].value_counts()"
   ]
  },
  {
   "cell_type": "code",
   "execution_count": null,
   "metadata": {
    "colab": {
     "base_uri": "https://localhost:8080/",
     "height": 821
    },
    "colab_type": "code",
    "id": "pPmXmizv96tT",
    "outputId": "70b86bb4-73b7-4c01-ec72-ed17ffa05fd5"
   },
   "outputs": [
    {
     "data": {
      "text/plain": [
       "<matplotlib.axes._subplots.AxesSubplot at 0x7f4d60a795c0>"
      ]
     },
     "execution_count": 11,
     "metadata": {
      "tags": []
     },
     "output_type": "execute_result"
    },
    {
     "data": {
      "image/png": "[encoded data removed]",
      "text/plain": [
       "<Figure size 1800x720 with 1 Axes>"
      ]
     },
     "metadata": {
      "needs_background": "light",
      "tags": []
     },
     "output_type": "display_data"
    }
   ],
   "source": [
    "train_df['Industry Classification Tag'].value_counts().plot(kind='bar',figsize=(25,10))"
   ]
  },
  {
   "cell_type": "markdown",
   "metadata": {
    "colab_type": "text",
    "id": "W4NC6TMK3qTy"
   },
   "source": [
    "Top Ten Industry counts"
   ]
  },
  {
   "cell_type": "code",
   "execution_count": null,
   "metadata": {
    "colab": {
     "base_uri": "https://localhost:8080/",
     "height": 772
    },
    "colab_type": "code",
    "id": "7NXhrDSi91hM",
    "outputId": "a0dc5354-be7a-4105-cdaa-f5fee81f35ee"
   },
   "outputs": [
    {
     "data": {
      "text/plain": [
       "<matplotlib.axes._subplots.AxesSubplot at 0x7f4ae5133ac8>"
      ]
     },
     "execution_count": 56,
     "metadata": {
      "tags": []
     },
     "output_type": "execute_result"
    },
    {
     "data": {
      "image/png": "[encoded data removed]",
      "text/plain": [
       "<Figure size 1800x720 with 1 Axes>"
      ]
     },
     "metadata": {
      "needs_background": "light",
      "tags": []
     },
     "output_type": "display_data"
    }
   ],
   "source": [
    "train_df['Industry Classification Tag'].value_counts()[:10].plot(kind='bar',figsize=(25,10))"
   ]
  },
  {
   "cell_type": "code",
   "execution_count": null,
   "metadata": {
    "colab": {
     "base_uri": "https://localhost:8080/",
     "height": 66,
     "referenced_widgets": [
      "075b149b331d49c2a7d128d3b449cbca",
      "2460dbcd52464f5285249a315770d0e1",
      "f6fc51a7b9974ad99ab30b293031bf0a",
      "7f7ed6b3b4cf4383856e0e1e7a291e65",
      "d6ee4752407d493c80e236f4c7cf98d3",
      "c832aad6140e418a8f1658e151b406f3",
      "a89e0137b0b44967bb8ec524a31c2783",
      "22c33c2076fa42649147e22a1823bc1f"
     ]
    },
    "colab_type": "code",
    "id": "r-TUyzr2-FGF",
    "outputId": "e70f246f-4c7c-4bef-eab6-f5af5c80e1ad"
   },
   "outputs": [
    {
     "data": {
      "application/vnd.jupyter.widget-view+json": {
       "model_id": "075b149b331d49c2a7d128d3b449cbca",
       "version_major": 2,
       "version_minor": 0
      },
      "text/plain": [
       "HBox(children=(FloatProgress(value=0.0, description='Downloading', max=231508.0, style=ProgressStyle(descripti…"
      ]
     },
     "metadata": {
      "tags": []
     },
     "output_type": "display_data"
    },
    {
     "name": "stdout",
     "output_type": "stream",
     "text": [
      "\n"
     ]
    }
   ],
   "source": [
    "tokenizer = BertTokenizer.from_pretrained('bert-base-uncased', do_lower_case=True)"
   ]
  },
  {
   "cell_type": "code",
   "execution_count": null,
   "metadata": {
    "colab": {
     "base_uri": "https://localhost:8080/",
     "height": 34
    },
    "colab_type": "code",
    "id": "RttvAwh3-aTM",
    "outputId": "85c8374b-84c0-4c72-ee2d-ef5d8809fe07"
   },
   "outputs": [
    {
     "name": "stdout",
     "output_type": "stream",
     "text": [
      "['knight', 'lap', 'survey', 'ma', '##ow', 'noise', 'billy', '##ium', 'shooting', 'guide', 'bedroom', 'priest', 'resistance', 'motor', 'homes', 'sounded', 'giant', '##mer', '150', 'scenes']\n"
     ]
    }
   ],
   "source": [
    "vocabulary = tokenizer.get_vocab()\n",
    "\n",
    "print(list(vocabulary.keys())[5000:5020])"
   ]
  },
  {
   "cell_type": "code",
   "execution_count": null,
   "metadata": {
    "colab": {
     "base_uri": "https://localhost:8080/",
     "height": 612
    },
    "colab_type": "code",
    "id": "XdkfQzXYDGDm",
    "outputId": "6d592af3-1d76-4129-b8e8-352df6958fac"
   },
   "outputs": [
    {
     "data": {
      "text/plain": [
       "array(['Advertising', 'Aerospace & Defense', 'Apparel Retail',\n",
       "       'Apparel, Accessories & Luxury Goods', 'Application Software',\n",
       "       'Asset Management & Custody Banks', 'Auto Parts & Equipment',\n",
       "       'Biotechnology', 'Building Products', 'Casinos & Gaming',\n",
       "       'Commodity Chemicals', 'Communications Equipment',\n",
       "       'Construction & Engineering',\n",
       "       'Construction Machinery & Heavy Trucks', 'Consumer Finance',\n",
       "       'Data Processing & Outsourced Services',\n",
       "       'Diversified Metals & Mining', 'Diversified Support Services',\n",
       "       'Electric Utilities', 'Electrical Components & Equipment',\n",
       "       'Electronic Equipment & Instruments',\n",
       "       'Environmental & Facilities Services', 'Gold',\n",
       "       'Health Care Equipment', 'Health Care Facilities',\n",
       "       'Health Care Services', 'Health Care Supplies',\n",
       "       'Health Care Technology', 'Homebuilding',\n",
       "       'Hotels, Resorts & Cruise Lines',\n",
       "       'Human Resource & Employment Services', 'Industrial Machinery',\n",
       "       'Integrated Telecommunication Services',\n",
       "       'Interactive Media & Services',\n",
       "       'Internet & Direct Marketing Retail',\n",
       "       'Internet Services & Infrastructure',\n",
       "       'Investment Banking & Brokerage', 'IT Consulting & Other Services',\n",
       "       'Leisure Products', 'Life Sciences Tools & Services',\n",
       "       'Movies & Entertainment', 'Oil & Gas Equipment & Services',\n",
       "       'Oil & Gas Exploration & Production',\n",
       "       'Oil & Gas Refining & Marketing',\n",
       "       'Oil & Gas Storage & Transportation', 'Packaged Foods & Meats',\n",
       "       'Personal Products', 'Pharmaceuticals',\n",
       "       'Property & Casualty Insurance', 'Real Estate Operating Companies',\n",
       "       'Regional Banks', 'Research & Consulting Services', 'Restaurants',\n",
       "       'Semiconductors', 'Specialty Chemicals', 'Specialty Stores',\n",
       "       'Steel', 'Systems Software', 'Technology Distributors',\n",
       "       'Technology Hardware, Storage & Peripherals',\n",
       "       'Thrifts & Mortgage Finance', 'Trading Companies & Distributors'],\n",
       "      dtype=object)"
      ]
     },
     "execution_count": 15,
     "metadata": {
      "tags": []
     },
     "output_type": "execute_result"
    }
   ],
   "source": [
    "train_df['Industry Classification Tag'].unique()"
   ]
  },
  {
   "cell_type": "code",
   "execution_count": null,
   "metadata": {
    "colab": {
     "base_uri": "https://localhost:8080/",
     "height": 34
    },
    "colab_type": "code",
    "id": "m3esnK1NDOE8",
    "outputId": "c2201ab2-ab90-492e-ae36-4a0083d1e983"
   },
   "outputs": [
    {
     "data": {
      "text/plain": [
       "62"
      ]
     },
     "execution_count": 16,
     "metadata": {
      "tags": []
     },
     "output_type": "execute_result"
    }
   ],
   "source": [
    "len(train_df['Industry Classification Tag'].unique())"
   ]
  },
  {
   "cell_type": "code",
   "execution_count": null,
   "metadata": {
    "colab": {},
    "colab_type": "code",
    "id": "uB-sxyAtEpJ5"
   },
   "outputs": [],
   "source": [
    "le = LabelEncoder()\n",
    "le.fit(train_df['Industry Classification Tag'])\n",
    "y = le.transform(train_df['Industry Classification Tag'])"
   ]
  },
  {
   "cell_type": "code",
   "execution_count": null,
   "metadata": {
    "colab": {},
    "colab_type": "code",
    "id": "2G_yQY8C-f_9"
   },
   "outputs": [],
   "source": [
    "X = (np.array(train_df['Business Description']))\n",
    "y = (np.array(y))\n",
    "X_train, X_test, y_train, y_test = train_test_split(X,y , test_size=0.2, random_state=42)"
   ]
  },
  {
   "cell_type": "code",
   "execution_count": null,
   "metadata": {
    "colab": {},
    "colab_type": "code",
    "id": "87NdOvVRFAD6"
   },
   "outputs": [],
   "source": []
  },
  {
   "cell_type": "code",
   "execution_count": null,
   "metadata": {
    "colab": {},
    "colab_type": "code",
    "id": "lN0nHbOfFWEt"
   },
   "outputs": [],
   "source": [
    "# can be up to 512 for BERT\n",
    "max_length = 512\n",
    "\n",
    "# the recommended batches size for BERT are 16,32 ... however on this dataset we are overfitting quite fast \n",
    "# and smaller batches work like a regularization. \n",
    "# You might play with adding another dropout layer instead.\n",
    "batch_size = 6"
   ]
  },
  {
   "cell_type": "code",
   "execution_count": null,
   "metadata": {
    "colab": {},
    "colab_type": "code",
    "id": "ntnV8kdAFeS0"
   },
   "outputs": [],
   "source": [
    "\n",
    "def convert_example_to_feature(review):\n",
    "  \n",
    "  # combine step for tokenization, WordPiece vector mapping and will add also special tokens and truncate reviews longer than our max length\n",
    "  \n",
    "  return tokenizer.encode_plus(review, \n",
    "                add_special_tokens = True, # add [CLS], [SEP]\n",
    "                max_length = max_length, # max length of the text that can go to BERT\n",
    "                truncation = True,\n",
    "                pad_to_max_length = True, # add [PAD] tokens\n",
    "                return_attention_mask = True, # add attention mask to not focus on pad tokens\n",
    "              )"
   ]
  },
  {
   "cell_type": "code",
   "execution_count": null,
   "metadata": {
    "colab": {},
    "colab_type": "code",
    "id": "NdIXR0KhFgDw"
   },
   "outputs": [],
   "source": [
    "# map to the expected input to TFBertForSequenceClassification, see here \n",
    "def map_example_to_dict(input_ids, attention_masks, token_type_ids, label):\n",
    "  return {\n",
    "      \"input_ids\": input_ids,\n",
    "      \"token_type_ids\": token_type_ids,\n",
    "      \"attention_mask\": attention_masks,\n",
    "  }, label\n",
    "\n",
    "def encode_examples(X,y):\n",
    "\n",
    "  # prepare list, so that we can build up final TensorFlow dataset from slices.\n",
    "  input_ids_list = []\n",
    "  token_type_ids_list = []\n",
    "  attention_mask_list = []\n",
    "  label_list = []\n",
    "\n",
    "  for desc,label in zip(X,y):\n",
    "\n",
    "    bert_input = convert_example_to_feature(desc)\n",
    "  \n",
    "    input_ids_list.append(bert_input['input_ids'])\n",
    "    token_type_ids_list.append(bert_input['token_type_ids'])\n",
    "    attention_mask_list.append(bert_input['attention_mask'])\n",
    "    label_list.append([label])\n",
    "\n",
    "  return tf.data.Dataset.from_tensor_slices((input_ids_list, attention_mask_list, token_type_ids_list, label_list)).map(map_example_to_dict)"
   ]
  },
  {
   "cell_type": "code",
   "execution_count": null,
   "metadata": {
    "colab": {},
    "colab_type": "code",
    "id": "pGHDKSsYGh68"
   },
   "outputs": [],
   "source": [
    "# train dataset\n",
    "ds_train_encoded = encode_examples(X_train,y_train).shuffle(10000).batch(batch_size)"
   ]
  },
  {
   "cell_type": "code",
   "execution_count": null,
   "metadata": {
    "colab": {},
    "colab_type": "code",
    "id": "o5DeTIZrGueK"
   },
   "outputs": [],
   "source": [
    "# test dataset\n",
    "ds_test_encoded = encode_examples(X_test,y_test).batch(batch_size)"
   ]
  },
  {
   "cell_type": "code",
   "execution_count": null,
   "metadata": {
    "colab": {
     "base_uri": "https://localhost:8080/",
     "height": 220,
     "referenced_widgets": [
      "5cd1bdd727024c6aad29f0df26088090",
      "8745bea926654417a09ac8659540ca86",
      "9dbe3aaf6b4941cba065e993801f8e70",
      "2e1e7c57af5f48faa995c4db0f71cf46",
      "549e2021c74544f7bcd97790182a476f",
      "740d6fa6f457464b8b979676ad242c1f",
      "82a4403def13414283e52014c9088a02",
      "3f9f4652e2304feebe017955dbd92dc8",
      "1a061d60a52d41d0b1015a4ea8d086e8",
      "d35b170bce2d42c2828f12ed8fc43bff",
      "3e3717c77124416ea76b3d646c736fda",
      "13761f5a5ebe4ed386c216c2058645e7",
      "e813855c6d7042d59b71b9509037b141",
      "9ebff490c8b5447dbbd3dca1c72e6657",
      "7151b6789cff4f7c8bda5e3a61e47772",
      "9e632747e39149028be1e73c4f88b4a1"
     ]
    },
    "colab_type": "code",
    "id": "83KqPgxLICfu",
    "outputId": "0bbc11ac-78b9-4f7f-9d99-8511e2870bda"
   },
   "outputs": [
    {
     "data": {
      "application/vnd.jupyter.widget-view+json": {
       "model_id": "5cd1bdd727024c6aad29f0df26088090",
       "version_major": 2,
       "version_minor": 0
      },
      "text/plain": [
       "HBox(children=(FloatProgress(value=0.0, description='Downloading', max=433.0, style=ProgressStyle(description_…"
      ]
     },
     "metadata": {
      "tags": []
     },
     "output_type": "display_data"
    },
    {
     "name": "stdout",
     "output_type": "stream",
     "text": [
      "\n"
     ]
    },
    {
     "data": {
      "application/vnd.jupyter.widget-view+json": {
       "model_id": "1a061d60a52d41d0b1015a4ea8d086e8",
       "version_major": 2,
       "version_minor": 0
      },
      "text/plain": [
       "HBox(children=(FloatProgress(value=0.0, description='Downloading', max=536063208.0, style=ProgressStyle(descri…"
      ]
     },
     "metadata": {
      "tags": []
     },
     "output_type": "display_data"
    },
    {
     "name": "stdout",
     "output_type": "stream",
     "text": [
      "\n"
     ]
    },
    {
     "name": "stderr",
     "output_type": "stream",
     "text": [
      "Some weights of the model checkpoint at bert-base-uncased were not used when initializing TFBertForSequenceClassification: ['nsp___cls', 'mlm___cls']\n",
      "- This IS expected if you are initializing TFBertForSequenceClassification from the checkpoint of a model trained on another task or with another architecture (e.g. initializing a BertForSequenceClassification model from a BertForPretraining model).\n",
      "- This IS NOT expected if you are initializing TFBertForSequenceClassification from the checkpoint of a model that you expect to be exactly identical (initializing a BertForSequenceClassification model from a BertForSequenceClassification model).\n",
      "Some weights of TFBertForSequenceClassification were not initialized from the model checkpoint at bert-base-uncased and are newly initialized: ['dropout_37', 'classifier']\n",
      "You should probably TRAIN this model on a down-stream task to be able to use it for predictions and inference.\n"
     ]
    }
   ],
   "source": [
    "# recommended learning rate for Adam 5e-5, 3e-5, 2e-5\n",
    "\n",
    "learning_rate = 2e-5\n",
    "\n",
    "number_of_epochs = 5\n",
    "config = BertConfig.from_pretrained(\"bert-base-uncased\", num_labels=62)\n",
    "# model initialization\n",
    "model = TFBertForSequenceClassification.from_pretrained('bert-base-uncased',config = config, training= True)\n",
    "\n",
    "# classifier Adam recommended\n",
    "optimizer = tf.keras.optimizers.Adam(learning_rate=learning_rate, epsilon=1e-08)\n",
    "\n",
    "# we do not have one-hot vectors, we can use sparce categorical cross entropy and accuracy\n",
    "loss = tf.keras.losses.SparseCategoricalCrossentropy(from_logits=True)\n",
    "metric = tf.keras.metrics.SparseCategoricalAccuracy('accuracy')\n",
    "\n",
    "model.compile(optimizer=optimizer, loss=loss, metrics=[metric])"
   ]
  },
  {
   "cell_type": "code",
   "execution_count": null,
   "metadata": {
    "colab": {
     "base_uri": "https://localhost:8080/",
     "height": 289
    },
    "colab_type": "code",
    "id": "WXYWTBLyIatR",
    "outputId": "3640bd9c-2dff-4163-a2eb-b32c81767eac"
   },
   "outputs": [
    {
     "name": "stdout",
     "output_type": "stream",
     "text": [
      "Epoch 1/8\n",
      "803/803 [==============================] - 400s 498ms/step - loss: 2.7276 - accuracy: 0.4266 - val_loss: 1.9256 - val_accuracy: 0.5983\n",
      "Epoch 2/8\n",
      "803/803 [==============================] - 396s 493ms/step - loss: 1.5613 - accuracy: 0.6525 - val_loss: 1.3578 - val_accuracy: 0.6788\n",
      "Epoch 3/8\n",
      "803/803 [==============================] - 396s 494ms/step - loss: 1.0164 - accuracy: 0.7748 - val_loss: 1.2064 - val_accuracy: 0.6988\n",
      "Epoch 4/8\n",
      "803/803 [==============================] - 396s 493ms/step - loss: 0.6767 - accuracy: 0.8547 - val_loss: 1.1413 - val_accuracy: 0.7079\n",
      "Epoch 5/8\n",
      "803/803 [==============================] - 396s 493ms/step - loss: 0.4491 - accuracy: 0.9043 - val_loss: 1.1740 - val_accuracy: 0.6921\n",
      "Epoch 6/8\n",
      "803/803 [==============================] - 396s 493ms/step - loss: 0.2918 - accuracy: 0.9429 - val_loss: 1.1040 - val_accuracy: 0.7303\n",
      "Epoch 7/8\n",
      "803/803 [==============================] - 396s 493ms/step - loss: 0.1854 - accuracy: 0.9655 - val_loss: 1.1998 - val_accuracy: 0.7220\n",
      "Epoch 8/8\n",
      "803/803 [==============================] - 395s 492ms/step - loss: 0.1358 - accuracy: 0.9730 - val_loss: 1.2394 - val_accuracy: 0.7237\n"
     ]
    }
   ],
   "source": [
    "bert_history = model.fit(ds_train_encoded, epochs=number_of_epochs, validation_data=ds_test_encoded)"
   ]
  },
  {
   "cell_type": "code",
   "execution_count": null,
   "metadata": {
    "colab": {},
    "colab_type": "code",
    "id": "74W8ntRUpaUo"
   },
   "outputs": [],
   "source": [
    "# map to the expected input to TFBertForSequenceClassification, see here \n",
    "def map_example_to_dict_predict(input_ids, attention_masks, token_type_ids):\n",
    "  return {\n",
    "      \"input_ids\": input_ids,\n",
    "      \"token_type_ids\": token_type_ids,\n",
    "      \"attention_mask\": attention_masks,\n",
    "  }\n",
    "\n",
    "def encode_examples_predict(X):\n",
    "\n",
    "  # prepare list, so that we can build up final TensorFlow dataset from slices.\n",
    "  input_ids_list = []\n",
    "  token_type_ids_list = []\n",
    "  attention_mask_list = []\n",
    "  #label_list = []\n",
    "\n",
    "  for desc in X:\n",
    "\n",
    "    bert_input = convert_example_to_feature(desc)\n",
    "  \n",
    "    input_ids_list.append(bert_input['input_ids'])\n",
    "    token_type_ids_list.append(bert_input['token_type_ids'])\n",
    "    attention_mask_list.append(bert_input['attention_mask'])\n",
    "    #label_list.append([label])\n",
    "\n",
    "  return tf.data.Dataset.from_tensor_slices((input_ids_list, attention_mask_list, token_type_ids_list)).map(map_example_to_dict_predict)"
   ]
  },
  {
   "cell_type": "code",
   "execution_count": null,
   "metadata": {
    "colab": {},
    "colab_type": "code",
    "id": "sBty5NQlI82T"
   },
   "outputs": [],
   "source": [
    "predict_ds_train = encode_examples_predict(train_df['Business Description']).batch(batch_size)"
   ]
  },
  {
   "cell_type": "code",
   "execution_count": null,
   "metadata": {
    "colab": {},
    "colab_type": "code",
    "id": "LCfQTqMzzisi"
   },
   "outputs": [],
   "source": [
    "#model.evaluate(ds_train_encoded)\n",
    "yhat_classes = model.predict(predict_ds_train)"
   ]
  },
  {
   "cell_type": "code",
   "execution_count": null,
   "metadata": {
    "colab": {},
    "colab_type": "code",
    "id": "APz_UV4278fi"
   },
   "outputs": [],
   "source": [
    "yhat = np.argmax(yhat_classes[0], axis=1)\n"
   ]
  },
  {
   "cell_type": "code",
   "execution_count": null,
   "metadata": {
    "colab": {
     "base_uri": "https://localhost:8080/",
     "height": 34
    },
    "colab_type": "code",
    "id": "4X8SpET88SUj",
    "outputId": "700b28ed-b1d5-46f6-95c3-a34ea911d9b3"
   },
   "outputs": [
    {
     "name": "stdout",
     "output_type": "stream",
     "text": [
      "Accuracy: 0.936068\n"
     ]
    }
   ],
   "source": [
    "# accuracy: (tp + tn) / (p + n)\n",
    "accuracy = accuracy_score(y, yhat)\n",
    "print('Accuracy: %f' % accuracy)"
   ]
  },
  {
   "cell_type": "code",
   "execution_count": null,
   "metadata": {
    "colab": {
     "base_uri": "https://localhost:8080/",
     "height": 34
    },
    "colab_type": "code",
    "id": "d7j8FjsW9Cim",
    "outputId": "46ec3ced-8438-46e3-daff-a0f29a33116d"
   },
   "outputs": [
    {
     "name": "stdout",
     "output_type": "stream",
     "text": [
      "Precision: 0.937875\n"
     ]
    }
   ],
   "source": [
    "# precision tp / (tp + fp)\n",
    "precision = precision_score(y, yhat,average='weighted')\n",
    "print('Precision: %f' % precision)\n"
   ]
  },
  {
   "cell_type": "code",
   "execution_count": null,
   "metadata": {
    "colab": {
     "base_uri": "https://localhost:8080/",
     "height": 34
    },
    "colab_type": "code",
    "id": "Zwnh_MIi9UFA",
    "outputId": "b334a573-6ae0-460b-e9af-a7b9b96a44c3"
   },
   "outputs": [
    {
     "name": "stdout",
     "output_type": "stream",
     "text": [
      "Recall: 0.936068\n"
     ]
    }
   ],
   "source": [
    "# recall: tp / (tp + fn)\n",
    "recall = recall_score(y, yhat,average='weighted')\n",
    "print('Recall: %f' % recall)\n"
   ]
  },
  {
   "cell_type": "code",
   "execution_count": null,
   "metadata": {
    "colab": {
     "base_uri": "https://localhost:8080/",
     "height": 34
    },
    "colab_type": "code",
    "id": "AomLGlWn9au3",
    "outputId": "9071d442-bd17-40a0-a620-f0c54ef60bcf"
   },
   "outputs": [
    {
     "name": "stdout",
     "output_type": "stream",
     "text": [
      "F1 score: 0.935908\n"
     ]
    }
   ],
   "source": [
    "# f1: 2 tp / (2 tp + fp + fn)\n",
    "f1 = f1_score(y, yhat,average='weighted')\n",
    "print('F1 score: %f' % f1)"
   ]
  },
  {
   "cell_type": "code",
   "execution_count": null,
   "metadata": {
    "colab": {
     "base_uri": "https://localhost:8080/",
     "height": 607
    },
    "colab_type": "code",
    "id": "YkeVOu0VzjGE",
    "outputId": "b1c8addd-c2b3-414b-a42b-09d4a1715757"
   },
   "outputs": [
    {
     "data": {
      "image/png": "[encoded data removed]",
      "text/plain": [
       "<Figure size 720x720 with 2 Axes>"
      ]
     },
     "metadata": {
      "needs_background": "light",
      "tags": []
     },
     "output_type": "display_data"
    }
   ],
   "source": [
    "# plot loss during training\n",
    "plt.figure(figsize=(10,10))\n",
    "plt.subplot(211)\n",
    "plt.title('Loss')\n",
    "plt.plot(bert_history.history['loss'], label='train')\n",
    "plt.plot(bert_history.history['val_loss'], label='test')\n",
    "plt.legend()\n",
    "# plot accuracy during training\n",
    "plt.subplot(212)\n",
    "plt.title('Accuracy')\n",
    "plt.plot(bert_history.history['accuracy'], label='train')\n",
    "plt.plot(bert_history.history['val_accuracy'], label='test')\n",
    "plt.legend()\n",
    "plt.show()"
   ]
  },
  {
   "cell_type": "code",
   "execution_count": null,
   "metadata": {
    "colab": {},
    "colab_type": "code",
    "id": "n75KRvUNPCBy"
   },
   "outputs": [],
   "source": [
    "test_df =  pd.read_excel('Testing_Data_for_Data_Science_Case_Stduy.xlsx')"
   ]
  },
  {
   "cell_type": "code",
   "execution_count": null,
   "metadata": {
    "colab": {
     "base_uri": "https://localhost:8080/",
     "height": 204
    },
    "colab_type": "code",
    "id": "ZlptzfFFIj-I",
    "outputId": "aa31632e-785d-4a11-ba6d-940483b3bf79"
   },
   "outputs": [
    {
     "data": {
      "text/html": [
       "<div>\n",
       "<style scoped>\n",
       "    .dataframe tbody tr th:only-of-type {\n",
       "        vertical-align: middle;\n",
       "    }\n",
       "\n",
       "    .dataframe tbody tr th {\n",
       "        vertical-align: top;\n",
       "    }\n",
       "\n",
       "    .dataframe thead th {\n",
       "        text-align: right;\n",
       "    }\n",
       "</style>\n",
       "<table border=\"1\" class=\"dataframe\">\n",
       "  <thead>\n",
       "    <tr style=\"text-align: right;\">\n",
       "      <th></th>\n",
       "      <th>Company</th>\n",
       "      <th>Business Description</th>\n",
       "    </tr>\n",
       "  </thead>\n",
       "  <tbody>\n",
       "    <tr>\n",
       "      <th>0</th>\n",
       "      <td>3rd Rock Multimedia Ltd</td>\n",
       "      <td>3rd Rock Multimedia Limited is an India-based ...</td>\n",
       "    </tr>\n",
       "    <tr>\n",
       "      <th>1</th>\n",
       "      <td>Andhra Petrochemicals Ltd</td>\n",
       "      <td>The Andhra Petrochemicals Limited is an India-...</td>\n",
       "    </tr>\n",
       "    <tr>\n",
       "      <th>2</th>\n",
       "      <td>Force Motors Ltd</td>\n",
       "      <td>Force Motors Limited is a holding company. The...</td>\n",
       "    </tr>\n",
       "    <tr>\n",
       "      <th>3</th>\n",
       "      <td>Diamines And Chemicals Ltd</td>\n",
       "      <td>Diamines and Chemicals Limited is a holding co...</td>\n",
       "    </tr>\n",
       "    <tr>\n",
       "      <th>4</th>\n",
       "      <td>Insilco Ltd</td>\n",
       "      <td>Insilco Limited is engaged in manufacturing an...</td>\n",
       "    </tr>\n",
       "  </tbody>\n",
       "</table>\n",
       "</div>"
      ],
      "text/plain": [
       "                     Company                                Business Description\n",
       "0     3rd Rock Multimedia Ltd  3rd Rock Multimedia Limited is an India-based ...\n",
       "1   Andhra Petrochemicals Ltd  The Andhra Petrochemicals Limited is an India-...\n",
       "2            Force Motors Ltd  Force Motors Limited is a holding company. The...\n",
       "3  Diamines And Chemicals Ltd  Diamines and Chemicals Limited is a holding co...\n",
       "4                 Insilco Ltd  Insilco Limited is engaged in manufacturing an..."
      ]
     },
     "execution_count": 40,
     "metadata": {
      "tags": []
     },
     "output_type": "execute_result"
    }
   ],
   "source": [
    "test_df.head()"
   ]
  },
  {
   "cell_type": "code",
   "execution_count": null,
   "metadata": {
    "colab": {
     "base_uri": "https://localhost:8080/",
     "height": 68
    },
    "colab_type": "code",
    "id": "UMH05miDogm2",
    "outputId": "ecb70f1a-74f5-4da8-df2b-070b348cdf3f"
   },
   "outputs": [
    {
     "data": {
      "text/plain": [
       "Company                 False\n",
       "Business Description    False\n",
       "dtype: bool"
      ]
     },
     "execution_count": 41,
     "metadata": {
      "tags": []
     },
     "output_type": "execute_result"
    }
   ],
   "source": [
    "test_df.isnull().any()"
   ]
  },
  {
   "cell_type": "code",
   "execution_count": null,
   "metadata": {
    "colab": {},
    "colab_type": "code",
    "id": "OhDzO79Xqq5J"
   },
   "outputs": [],
   "source": [
    "predict_ds = encode_examples_predict(test_df['Business Description']).batch(batch_size)"
   ]
  },
  {
   "cell_type": "code",
   "execution_count": null,
   "metadata": {
    "colab": {},
    "colab_type": "code",
    "id": "MgHS-Y24q80D"
   },
   "outputs": [],
   "source": [
    "results = model.predict(predict_ds)\n",
    "prediction = np.argmax(results[0], axis=1)\n",
    "labels = le.inverse_transform(prediction)"
   ]
  },
  {
   "cell_type": "code",
   "execution_count": null,
   "metadata": {
    "colab": {
     "base_uri": "https://localhost:8080/",
     "height": 34
    },
    "colab_type": "code",
    "id": "szCF9QRbsMtG",
    "outputId": "ede24988-131b-4125-c9c9-b700bc0efbe6"
   },
   "outputs": [
    {
     "data": {
      "text/plain": [
       "(772, 62)"
      ]
     },
     "execution_count": 44,
     "metadata": {
      "tags": []
     },
     "output_type": "execute_result"
    }
   ],
   "source": [
    "results[0].shape"
   ]
  },
  {
   "cell_type": "code",
   "execution_count": null,
   "metadata": {
    "colab": {},
    "colab_type": "code",
    "id": "iTke8btQsbrJ"
   },
   "outputs": [],
   "source": [
    "test_df['Industry'] = labels"
   ]
  },
  {
   "cell_type": "code",
   "execution_count": null,
   "metadata": {
    "colab": {
     "base_uri": "https://localhost:8080/",
     "height": 359
    },
    "colab_type": "code",
    "id": "i9kjXHvTwHkU",
    "outputId": "15416e6b-3e9d-4282-9e07-44a7716a026f"
   },
   "outputs": [
    {
     "data": {
      "text/html": [
       "<div>\n",
       "<style scoped>\n",
       "    .dataframe tbody tr th:only-of-type {\n",
       "        vertical-align: middle;\n",
       "    }\n",
       "\n",
       "    .dataframe tbody tr th {\n",
       "        vertical-align: top;\n",
       "    }\n",
       "\n",
       "    .dataframe thead th {\n",
       "        text-align: right;\n",
       "    }\n",
       "</style>\n",
       "<table border=\"1\" class=\"dataframe\">\n",
       "  <thead>\n",
       "    <tr style=\"text-align: right;\">\n",
       "      <th></th>\n",
       "      <th>Company</th>\n",
       "      <th>Business Description</th>\n",
       "      <th>Industry</th>\n",
       "    </tr>\n",
       "  </thead>\n",
       "  <tbody>\n",
       "    <tr>\n",
       "      <th>0</th>\n",
       "      <td>3rd Rock Multimedia Ltd</td>\n",
       "      <td>3rd Rock Multimedia Limited is an India-based ...</td>\n",
       "      <td>Movies &amp; Entertainment</td>\n",
       "    </tr>\n",
       "    <tr>\n",
       "      <th>1</th>\n",
       "      <td>Andhra Petrochemicals Ltd</td>\n",
       "      <td>The Andhra Petrochemicals Limited is an India-...</td>\n",
       "      <td>Commodity Chemicals</td>\n",
       "    </tr>\n",
       "    <tr>\n",
       "      <th>2</th>\n",
       "      <td>Force Motors Ltd</td>\n",
       "      <td>Force Motors Limited is a holding company. The...</td>\n",
       "      <td>Construction Machinery &amp; Heavy Trucks</td>\n",
       "    </tr>\n",
       "    <tr>\n",
       "      <th>3</th>\n",
       "      <td>Diamines And Chemicals Ltd</td>\n",
       "      <td>Diamines and Chemicals Limited is a holding co...</td>\n",
       "      <td>Specialty Chemicals</td>\n",
       "    </tr>\n",
       "    <tr>\n",
       "      <th>4</th>\n",
       "      <td>Insilco Ltd</td>\n",
       "      <td>Insilco Limited is engaged in manufacturing an...</td>\n",
       "      <td>Specialty Chemicals</td>\n",
       "    </tr>\n",
       "    <tr>\n",
       "      <th>5</th>\n",
       "      <td>Integrated Financial Services Ltd</td>\n",
       "      <td>Integrated Financial Services Limited is an In...</td>\n",
       "      <td>Asset Management &amp; Custody Banks</td>\n",
       "    </tr>\n",
       "    <tr>\n",
       "      <th>6</th>\n",
       "      <td>Ion Exchange (India) Ltd</td>\n",
       "      <td>Ion Exchange (India) Limited is engaged in wat...</td>\n",
       "      <td>Industrial Machinery</td>\n",
       "    </tr>\n",
       "    <tr>\n",
       "      <th>7</th>\n",
       "      <td>Kinetic Engineering Ltd</td>\n",
       "      <td>Kinetic Engineering Limited is an India-based ...</td>\n",
       "      <td>Auto Parts &amp; Equipment</td>\n",
       "    </tr>\n",
       "    <tr>\n",
       "      <th>8</th>\n",
       "      <td>Lords Chloro Alkali Limited(NDA)</td>\n",
       "      <td>Lords Chloro Alkali Limited is engaged in manu...</td>\n",
       "      <td>Commodity Chemicals</td>\n",
       "    </tr>\n",
       "    <tr>\n",
       "      <th>9</th>\n",
       "      <td>National Peroxide Ltd</td>\n",
       "      <td>National Peroxide Limited is a manufacturer of...</td>\n",
       "      <td>Commodity Chemicals</td>\n",
       "    </tr>\n",
       "  </tbody>\n",
       "</table>\n",
       "</div>"
      ],
      "text/plain": [
       "                            Company   ...                               Industry\n",
       "0            3rd Rock Multimedia Ltd  ...                 Movies & Entertainment\n",
       "1          Andhra Petrochemicals Ltd  ...                    Commodity Chemicals\n",
       "2                   Force Motors Ltd  ...  Construction Machinery & Heavy Trucks\n",
       "3         Diamines And Chemicals Ltd  ...                    Specialty Chemicals\n",
       "4                        Insilco Ltd  ...                    Specialty Chemicals\n",
       "5  Integrated Financial Services Ltd  ...       Asset Management & Custody Banks\n",
       "6           Ion Exchange (India) Ltd  ...                   Industrial Machinery\n",
       "7            Kinetic Engineering Ltd  ...                 Auto Parts & Equipment\n",
       "8   Lords Chloro Alkali Limited(NDA)  ...                    Commodity Chemicals\n",
       "9              National Peroxide Ltd  ...                    Commodity Chemicals\n",
       "\n",
       "[10 rows x 3 columns]"
      ]
     },
     "execution_count": 46,
     "metadata": {
      "tags": []
     },
     "output_type": "execute_result"
    }
   ],
   "source": [
    "test_df.head(10)"
   ]
  },
  {
   "cell_type": "code",
   "execution_count": null,
   "metadata": {
    "colab": {},
    "colab_type": "code",
    "id": "FTxZgGRtwbIZ"
   },
   "outputs": [],
   "source": [
    "test_df.to_excel('Output.xlsx')"
   ]
  },
  {
   "cell_type": "markdown",
   "metadata": {
    "colab_type": "text",
    "id": "QJnfnD6rJ1Ts"
   },
   "source": [
    "Few observations below:\n",
    "1. Above model is not a optimsed one. It is slightly overfitted with 8 epochs. \n",
    "2. Class Imbalance is not taken care here\n",
    "3. The entire network could be replaced with a combination of DistilBert model and a Logisctic regression model \n",
    "4. Accuracy on the test data could be imporved by more fine tuning of the model.\n",
    "5. There are no descriptions on the above code\n",
    "\n",
    "NB: I couldn't manage to any optimizations on the above model, since I was running out of time. "
   ]
  },
  {
   "cell_type": "code",
   "execution_count": null,
   "metadata": {
    "colab": {},
    "colab_type": "code",
    "id": "fsDqXwsTJ1-U"
   },
   "outputs": [],
   "source": []
  }
 ],
 "metadata": {
  "accelerator": "GPU",
  "colab": {
   "collapsed_sections": [],
   "name": "bert_sample.ipynb",
   "provenance": []
  },
  "kernelspec": {
   "display_name": "Python 3",
   "language": "python",
   "name": "python3"
  },
  "language_info": {
   "codemirror_mode": {
    "name": "ipython",
    "version": 3
   },
   "file_extension": ".py",
   "mimetype": "text/x-python",
   "name": "python",
   "nbconvert_exporter": "python",
   "pygments_lexer": "ipython3",
   "version": "3.7.0"
  },
  "widgets": {
   "application/vnd.jupyter.widget-state+json": {
    "075b149b331d49c2a7d128d3b449cbca": {
     "model_module": "@jupyter-widgets/controls",
     "model_name": "HBoxModel",
     "state": {
      "_dom_classes": [],
      "_model_module": "@jupyter-widgets/controls",
      "_model_module_version": "1.5.0",
      "_model_name": "HBoxModel",
      "_view_count": null,
      "_view_module": "@jupyter-widgets/controls",
      "_view_module_version": "1.5.0",
      "_view_name": "HBoxView",
      "box_style": "",
      "children": [
       "IPY_MODEL_f6fc51a7b9974ad99ab30b293031bf0a",
       "IPY_MODEL_7f7ed6b3b4cf4383856e0e1e7a291e65"
      ],
      "layout": "IPY_MODEL_2460dbcd52464f5285249a315770d0e1"
     }
    },
    "13761f5a5ebe4ed386c216c2058645e7": {
     "model_module": "@jupyter-widgets/controls",
     "model_name": "HTMLModel",
     "state": {
      "_dom_classes": [],
      "_model_module": "@jupyter-widgets/controls",
      "_model_module_version": "1.5.0",
      "_model_name": "HTMLModel",
      "_view_count": null,
      "_view_module": "@jupyter-widgets/controls",
      "_view_module_version": "1.5.0",
      "_view_name": "HTMLView",
      "description": "",
      "description_tooltip": null,
      "layout": "IPY_MODEL_9e632747e39149028be1e73c4f88b4a1",
      "placeholder": "​",
      "style": "IPY_MODEL_7151b6789cff4f7c8bda5e3a61e47772",
      "value": " 536M/536M [00:11&lt;00:00, 46.0MB/s]"
     }
    },
    "1a061d60a52d41d0b1015a4ea8d086e8": {
     "model_module": "@jupyter-widgets/controls",
     "model_name": "HBoxModel",
     "state": {
      "_dom_classes": [],
      "_model_module": "@jupyter-widgets/controls",
      "_model_module_version": "1.5.0",
      "_model_name": "HBoxModel",
      "_view_count": null,
      "_view_module": "@jupyter-widgets/controls",
      "_view_module_version": "1.5.0",
      "_view_name": "HBoxView",
      "box_style": "",
      "children": [
       "IPY_MODEL_3e3717c77124416ea76b3d646c736fda",
       "IPY_MODEL_13761f5a5ebe4ed386c216c2058645e7"
      ],
      "layout": "IPY_MODEL_d35b170bce2d42c2828f12ed8fc43bff"
     }
    },
    "22c33c2076fa42649147e22a1823bc1f": {
     "model_module": "@jupyter-widgets/base",
     "model_name": "LayoutModel",
     "state": {
      "_model_module": "@jupyter-widgets/base",
      "_model_module_version": "1.2.0",
      "_model_name": "LayoutModel",
      "_view_count": null,
      "_view_module": "@jupyter-widgets/base",
      "_view_module_version": "1.2.0",
      "_view_name": "LayoutView",
      "align_content": null,
      "align_items": null,
      "align_self": null,
      "border": null,
      "bottom": null,
      "display": null,
      "flex": null,
      "flex_flow": null,
      "grid_area": null,
      "grid_auto_columns": null,
      "grid_auto_flow": null,
      "grid_auto_rows": null,
      "grid_column": null,
      "grid_gap": null,
      "grid_row": null,
      "grid_template_areas": null,
      "grid_template_columns": null,
      "grid_template_rows": null,
      "height": null,
      "justify_content": null,
      "justify_items": null,
      "left": null,
      "margin": null,
      "max_height": null,
      "max_width": null,
      "min_height": null,
      "min_width": null,
      "object_fit": null,
      "object_position": null,
      "order": null,
      "overflow": null,
      "overflow_x": null,
      "overflow_y": null,
      "padding": null,
      "right": null,
      "top": null,
      "visibility": null,
      "width": null
     }
    },
    "2460dbcd52464f5285249a315770d0e1": {
     "model_module": "@jupyter-widgets/base",
     "model_name": "LayoutModel",
     "state": {
      "_model_module": "@jupyter-widgets/base",
      "_model_module_version": "1.2.0",
      "_model_name": "LayoutModel",
      "_view_count": null,
      "_view_module": "@jupyter-widgets/base",
      "_view_module_version": "1.2.0",
      "_view_name": "LayoutView",
      "align_content": null,
      "align_items": null,
      "align_self": null,
      "border": null,
      "bottom": null,
      "display": null,
      "flex": null,
      "flex_flow": null,
      "grid_area": null,
      "grid_auto_columns": null,
      "grid_auto_flow": null,
      "grid_auto_rows": null,
      "grid_column": null,
      "grid_gap": null,
      "grid_row": null,
      "grid_template_areas": null,
      "grid_template_columns": null,
      "grid_template_rows": null,
      "height": null,
      "justify_content": null,
      "justify_items": null,
      "left": null,
      "margin": null,
      "max_height": null,
      "max_width": null,
      "min_height": null,
      "min_width": null,
      "object_fit": null,
      "object_position": null,
      "order": null,
      "overflow": null,
      "overflow_x": null,
      "overflow_y": null,
      "padding": null,
      "right": null,
      "top": null,
      "visibility": null,
      "width": null
     }
    },
    "2e1e7c57af5f48faa995c4db0f71cf46": {
     "model_module": "@jupyter-widgets/controls",
     "model_name": "HTMLModel",
     "state": {
      "_dom_classes": [],
      "_model_module": "@jupyter-widgets/controls",
      "_model_module_version": "1.5.0",
      "_model_name": "HTMLModel",
      "_view_count": null,
      "_view_module": "@jupyter-widgets/controls",
      "_view_module_version": "1.5.0",
      "_view_name": "HTMLView",
      "description": "",
      "description_tooltip": null,
      "layout": "IPY_MODEL_3f9f4652e2304feebe017955dbd92dc8",
      "placeholder": "​",
      "style": "IPY_MODEL_82a4403def13414283e52014c9088a02",
      "value": " 433/433 [00:00&lt;00:00, 1.14kB/s]"
     }
    },
    "3e3717c77124416ea76b3d646c736fda": {
     "model_module": "@jupyter-widgets/controls",
     "model_name": "FloatProgressModel",
     "state": {
      "_dom_classes": [],
      "_model_module": "@jupyter-widgets/controls",
      "_model_module_version": "1.5.0",
      "_model_name": "FloatProgressModel",
      "_view_count": null,
      "_view_module": "@jupyter-widgets/controls",
      "_view_module_version": "1.5.0",
      "_view_name": "ProgressView",
      "bar_style": "success",
      "description": "Downloading: 100%",
      "description_tooltip": null,
      "layout": "IPY_MODEL_9ebff490c8b5447dbbd3dca1c72e6657",
      "max": 536063208,
      "min": 0,
      "orientation": "horizontal",
      "style": "IPY_MODEL_e813855c6d7042d59b71b9509037b141",
      "value": 536063208
     }
    },
    "3f9f4652e2304feebe017955dbd92dc8": {
     "model_module": "@jupyter-widgets/base",
     "model_name": "LayoutModel",
     "state": {
      "_model_module": "@jupyter-widgets/base",
      "_model_module_version": "1.2.0",
      "_model_name": "LayoutModel",
      "_view_count": null,
      "_view_module": "@jupyter-widgets/base",
      "_view_module_version": "1.2.0",
      "_view_name": "LayoutView",
      "align_content": null,
      "align_items": null,
      "align_self": null,
      "border": null,
      "bottom": null,
      "display": null,
      "flex": null,
      "flex_flow": null,
      "grid_area": null,
      "grid_auto_columns": null,
      "grid_auto_flow": null,
      "grid_auto_rows": null,
      "grid_column": null,
      "grid_gap": null,
      "grid_row": null,
      "grid_template_areas": null,
      "grid_template_columns": null,
      "grid_template_rows": null,
      "height": null,
      "justify_content": null,
      "justify_items": null,
      "left": null,
      "margin": null,
      "max_height": null,
      "max_width": null,
      "min_height": null,
      "min_width": null,
      "object_fit": null,
      "object_position": null,
      "order": null,
      "overflow": null,
      "overflow_x": null,
      "overflow_y": null,
      "padding": null,
      "right": null,
      "top": null,
      "visibility": null,
      "width": null
     }
    },
    "549e2021c74544f7bcd97790182a476f": {
     "model_module": "@jupyter-widgets/controls",
     "model_name": "ProgressStyleModel",
     "state": {
      "_model_module": "@jupyter-widgets/controls",
      "_model_module_version": "1.5.0",
      "_model_name": "ProgressStyleModel",
      "_view_count": null,
      "_view_module": "@jupyter-widgets/base",
      "_view_module_version": "1.2.0",
      "_view_name": "StyleView",
      "bar_color": null,
      "description_width": "initial"
     }
    },
    "5cd1bdd727024c6aad29f0df26088090": {
     "model_module": "@jupyter-widgets/controls",
     "model_name": "HBoxModel",
     "state": {
      "_dom_classes": [],
      "_model_module": "@jupyter-widgets/controls",
      "_model_module_version": "1.5.0",
      "_model_name": "HBoxModel",
      "_view_count": null,
      "_view_module": "@jupyter-widgets/controls",
      "_view_module_version": "1.5.0",
      "_view_name": "HBoxView",
      "box_style": "",
      "children": [
       "IPY_MODEL_9dbe3aaf6b4941cba065e993801f8e70",
       "IPY_MODEL_2e1e7c57af5f48faa995c4db0f71cf46"
      ],
      "layout": "IPY_MODEL_8745bea926654417a09ac8659540ca86"
     }
    },
    "7151b6789cff4f7c8bda5e3a61e47772": {
     "model_module": "@jupyter-widgets/controls",
     "model_name": "DescriptionStyleModel",
     "state": {
      "_model_module": "@jupyter-widgets/controls",
      "_model_module_version": "1.5.0",
      "_model_name": "DescriptionStyleModel",
      "_view_count": null,
      "_view_module": "@jupyter-widgets/base",
      "_view_module_version": "1.2.0",
      "_view_name": "StyleView",
      "description_width": ""
     }
    },
    "740d6fa6f457464b8b979676ad242c1f": {
     "model_module": "@jupyter-widgets/base",
     "model_name": "LayoutModel",
     "state": {
      "_model_module": "@jupyter-widgets/base",
      "_model_module_version": "1.2.0",
      "_model_name": "LayoutModel",
      "_view_count": null,
      "_view_module": "@jupyter-widgets/base",
      "_view_module_version": "1.2.0",
      "_view_name": "LayoutView",
      "align_content": null,
      "align_items": null,
      "align_self": null,
      "border": null,
      "bottom": null,
      "display": null,
      "flex": null,
      "flex_flow": null,
      "grid_area": null,
      "grid_auto_columns": null,
      "grid_auto_flow": null,
      "grid_auto_rows": null,
      "grid_column": null,
      "grid_gap": null,
      "grid_row": null,
      "grid_template_areas": null,
      "grid_template_columns": null,
      "grid_template_rows": null,
      "height": null,
      "justify_content": null,
      "justify_items": null,
      "left": null,
      "margin": null,
      "max_height": null,
      "max_width": null,
      "min_height": null,
      "min_width": null,
      "object_fit": null,
      "object_position": null,
      "order": null,
      "overflow": null,
      "overflow_x": null,
      "overflow_y": null,
      "padding": null,
      "right": null,
      "top": null,
      "visibility": null,
      "width": null
     }
    },
    "7f7ed6b3b4cf4383856e0e1e7a291e65": {
     "model_module": "@jupyter-widgets/controls",
     "model_name": "HTMLModel",
     "state": {
      "_dom_classes": [],
      "_model_module": "@jupyter-widgets/controls",
      "_model_module_version": "1.5.0",
      "_model_name": "HTMLModel",
      "_view_count": null,
      "_view_module": "@jupyter-widgets/controls",
      "_view_module_version": "1.5.0",
      "_view_name": "HTMLView",
      "description": "",
      "description_tooltip": null,
      "layout": "IPY_MODEL_22c33c2076fa42649147e22a1823bc1f",
      "placeholder": "​",
      "style": "IPY_MODEL_a89e0137b0b44967bb8ec524a31c2783",
      "value": " 232k/232k [00:00&lt;00:00, 305kB/s]"
     }
    },
    "82a4403def13414283e52014c9088a02": {
     "model_module": "@jupyter-widgets/controls",
     "model_name": "DescriptionStyleModel",
     "state": {
      "_model_module": "@jupyter-widgets/controls",
      "_model_module_version": "1.5.0",
      "_model_name": "DescriptionStyleModel",
      "_view_count": null,
      "_view_module": "@jupyter-widgets/base",
      "_view_module_version": "1.2.0",
      "_view_name": "StyleView",
      "description_width": ""
     }
    },
    "8745bea926654417a09ac8659540ca86": {
     "model_module": "@jupyter-widgets/base",
     "model_name": "LayoutModel",
     "state": {
      "_model_module": "@jupyter-widgets/base",
      "_model_module_version": "1.2.0",
      "_model_name": "LayoutModel",
      "_view_count": null,
      "_view_module": "@jupyter-widgets/base",
      "_view_module_version": "1.2.0",
      "_view_name": "LayoutView",
      "align_content": null,
      "align_items": null,
      "align_self": null,
      "border": null,
      "bottom": null,
      "display": null,
      "flex": null,
      "flex_flow": null,
      "grid_area": null,
      "grid_auto_columns": null,
      "grid_auto_flow": null,
      "grid_auto_rows": null,
      "grid_column": null,
      "grid_gap": null,
      "grid_row": null,
      "grid_template_areas": null,
      "grid_template_columns": null,
      "grid_template_rows": null,
      "height": null,
      "justify_content": null,
      "justify_items": null,
      "left": null,
      "margin": null,
      "max_height": null,
      "max_width": null,
      "min_height": null,
      "min_width": null,
      "object_fit": null,
      "object_position": null,
      "order": null,
      "overflow": null,
      "overflow_x": null,
      "overflow_y": null,
      "padding": null,
      "right": null,
      "top": null,
      "visibility": null,
      "width": null
     }
    },
    "9dbe3aaf6b4941cba065e993801f8e70": {
     "model_module": "@jupyter-widgets/controls",
     "model_name": "FloatProgressModel",
     "state": {
      "_dom_classes": [],
      "_model_module": "@jupyter-widgets/controls",
      "_model_module_version": "1.5.0",
      "_model_name": "FloatProgressModel",
      "_view_count": null,
      "_view_module": "@jupyter-widgets/controls",
      "_view_module_version": "1.5.0",
      "_view_name": "ProgressView",
      "bar_style": "success",
      "description": "Downloading: 100%",
      "description_tooltip": null,
      "layout": "IPY_MODEL_740d6fa6f457464b8b979676ad242c1f",
      "max": 433,
      "min": 0,
      "orientation": "horizontal",
      "style": "IPY_MODEL_549e2021c74544f7bcd97790182a476f",
      "value": 433
     }
    },
    "9e632747e39149028be1e73c4f88b4a1": {
     "model_module": "@jupyter-widgets/base",
     "model_name": "LayoutModel",
     "state": {
      "_model_module": "@jupyter-widgets/base",
      "_model_module_version": "1.2.0",
      "_model_name": "LayoutModel",
      "_view_count": null,
      "_view_module": "@jupyter-widgets/base",
      "_view_module_version": "1.2.0",
      "_view_name": "LayoutView",
      "align_content": null,
      "align_items": null,
      "align_self": null,
      "border": null,
      "bottom": null,
      "display": null,
      "flex": null,
      "flex_flow": null,
      "grid_area": null,
      "grid_auto_columns": null,
      "grid_auto_flow": null,
      "grid_auto_rows": null,
      "grid_column": null,
      "grid_gap": null,
      "grid_row": null,
      "grid_template_areas": null,
      "grid_template_columns": null,
      "grid_template_rows": null,
      "height": null,
      "justify_content": null,
      "justify_items": null,
      "left": null,
      "margin": null,
      "max_height": null,
      "max_width": null,
      "min_height": null,
      "min_width": null,
      "object_fit": null,
      "object_position": null,
      "order": null,
      "overflow": null,
      "overflow_x": null,
      "overflow_y": null,
      "padding": null,
      "right": null,
      "top": null,
      "visibility": null,
      "width": null
     }
    },
    "9ebff490c8b5447dbbd3dca1c72e6657": {
     "model_module": "@jupyter-widgets/base",
     "model_name": "LayoutModel",
     "state": {
      "_model_module": "@jupyter-widgets/base",
      "_model_module_version": "1.2.0",
      "_model_name": "LayoutModel",
      "_view_count": null,
      "_view_module": "@jupyter-widgets/base",
      "_view_module_version": "1.2.0",
      "_view_name": "LayoutView",
      "align_content": null,
      "align_items": null,
      "align_self": null,
      "border": null,
      "bottom": null,
      "display": null,
      "flex": null,
      "flex_flow": null,
      "grid_area": null,
      "grid_auto_columns": null,
      "grid_auto_flow": null,
      "grid_auto_rows": null,
      "grid_column": null,
      "grid_gap": null,
      "grid_row": null,
      "grid_template_areas": null,
      "grid_template_columns": null,
      "grid_template_rows": null,
      "height": null,
      "justify_content": null,
      "justify_items": null,
      "left": null,
      "margin": null,
      "max_height": null,
      "max_width": null,
      "min_height": null,
      "min_width": null,
      "object_fit": null,
      "object_position": null,
      "order": null,
      "overflow": null,
      "overflow_x": null,
      "overflow_y": null,
      "padding": null,
      "right": null,
      "top": null,
      "visibility": null,
      "width": null
     }
    },
    "a89e0137b0b44967bb8ec524a31c2783": {
     "model_module": "@jupyter-widgets/controls",
     "model_name": "DescriptionStyleModel",
     "state": {
      "_model_module": "@jupyter-widgets/controls",
      "_model_module_version": "1.5.0",
      "_model_name": "DescriptionStyleModel",
      "_view_count": null,
      "_view_module": "@jupyter-widgets/base",
      "_view_module_version": "1.2.0",
      "_view_name": "StyleView",
      "description_width": ""
     }
    },
    "c832aad6140e418a8f1658e151b406f3": {
     "model_module": "@jupyter-widgets/base",
     "model_name": "LayoutModel",
     "state": {
      "_model_module": "@jupyter-widgets/base",
      "_model_module_version": "1.2.0",
      "_model_name": "LayoutModel",
      "_view_count": null,
      "_view_module": "@jupyter-widgets/base",
      "_view_module_version": "1.2.0",
      "_view_name": "LayoutView",
      "align_content": null,
      "align_items": null,
      "align_self": null,
      "border": null,
      "bottom": null,
      "display": null,
      "flex": null,
      "flex_flow": null,
      "grid_area": null,
      "grid_auto_columns": null,
      "grid_auto_flow": null,
      "grid_auto_rows": null,
      "grid_column": null,
      "grid_gap": null,
      "grid_row": null,
      "grid_template_areas": null,
      "grid_template_columns": null,
      "grid_template_rows": null,
      "height": null,
      "justify_content": null,
      "justify_items": null,
      "left": null,
      "margin": null,
      "max_height": null,
      "max_width": null,
      "min_height": null,
      "min_width": null,
      "object_fit": null,
      "object_position": null,
      "order": null,
      "overflow": null,
      "overflow_x": null,
      "overflow_y": null,
      "padding": null,
      "right": null,
      "top": null,
      "visibility": null,
      "width": null
     }
    },
    "d35b170bce2d42c2828f12ed8fc43bff": {
     "model_module": "@jupyter-widgets/base",
     "model_name": "LayoutModel",
     "state": {
      "_model_module": "@jupyter-widgets/base",
      "_model_module_version": "1.2.0",
      "_model_name": "LayoutModel",
      "_view_count": null,
      "_view_module": "@jupyter-widgets/base",
      "_view_module_version": "1.2.0",
      "_view_name": "LayoutView",
      "align_content": null,
      "align_items": null,
      "align_self": null,
      "border": null,
      "bottom": null,
      "display": null,
      "flex": null,
      "flex_flow": null,
      "grid_area": null,
      "grid_auto_columns": null,
      "grid_auto_flow": null,
      "grid_auto_rows": null,
      "grid_column": null,
      "grid_gap": null,
      "grid_row": null,
      "grid_template_areas": null,
      "grid_template_columns": null,
      "grid_template_rows": null,
      "height": null,
      "justify_content": null,
      "justify_items": null,
      "left": null,
      "margin": null,
      "max_height": null,
      "max_width": null,
      "min_height": null,
      "min_width": null,
      "object_fit": null,
      "object_position": null,
      "order": null,
      "overflow": null,
      "overflow_x": null,
      "overflow_y": null,
      "padding": null,
      "right": null,
      "top": null,
      "visibility": null,
      "width": null
     }
    },
    "d6ee4752407d493c80e236f4c7cf98d3": {
     "model_module": "@jupyter-widgets/controls",
     "model_name": "ProgressStyleModel",
     "state": {
      "_model_module": "@jupyter-widgets/controls",
      "_model_module_version": "1.5.0",
      "_model_name": "ProgressStyleModel",
      "_view_count": null,
      "_view_module": "@jupyter-widgets/base",
      "_view_module_version": "1.2.0",
      "_view_name": "StyleView",
      "bar_color": null,
      "description_width": "initial"
     }
    },
    "e813855c6d7042d59b71b9509037b141": {
     "model_module": "@jupyter-widgets/controls",
     "model_name": "ProgressStyleModel",
     "state": {
      "_model_module": "@jupyter-widgets/controls",
      "_model_module_version": "1.5.0",
      "_model_name": "ProgressStyleModel",
      "_view_count": null,
      "_view_module": "@jupyter-widgets/base",
      "_view_module_version": "1.2.0",
      "_view_name": "StyleView",
      "bar_color": null,
      "description_width": "initial"
     }
    },
    "f6fc51a7b9974ad99ab30b293031bf0a": {
     "model_module": "@jupyter-widgets/controls",
     "model_name": "FloatProgressModel",
     "state": {
      "_dom_classes": [],
      "_model_module": "@jupyter-widgets/controls",
      "_model_module_version": "1.5.0",
      "_model_name": "FloatProgressModel",
      "_view_count": null,
      "_view_module": "@jupyter-widgets/controls",
      "_view_module_version": "1.5.0",
      "_view_name": "ProgressView",
      "bar_style": "success",
      "description": "Downloading: 100%",
      "description_tooltip": null,
      "layout": "IPY_MODEL_c832aad6140e418a8f1658e151b406f3",
      "max": 231508,
      "min": 0,
      "orientation": "horizontal",
      "style": "IPY_MODEL_d6ee4752407d493c80e236f4c7cf98d3",
      "value": 231508
     }
    }
   }
  }
 },
 "nbformat": 4,
 "nbformat_minor": 1
}
